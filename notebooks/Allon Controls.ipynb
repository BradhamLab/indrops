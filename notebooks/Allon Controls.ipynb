{
 "metadata": {
  "name": "",
  "signature": "sha256:2b6310a631beb2d910d51d2c031de3b5f13f6697015dd1729789dbc19faec828"
 },
 "nbformat": 3,
 "nbformat_minor": 0,
 "worksheets": [
  {
   "cells": [
    {
     "cell_type": "markdown",
     "metadata": {},
     "source": []
    },
    {
     "cell_type": "code",
     "collapsed": false,
     "input": [
      "from collections import defaultdict\n",
      "import subprocess\n",
      "\n",
      "with open('/Users/averes/Projects/Melton/temp_dropseq/killme.fq') as f:\n",
      "    killme = list(f)\n",
      "\n",
      "counts_by_len = {}\n",
      "for rlen in range(30, 100, 5):\n",
      "    fq_filename = '/Users/averes/Projects/Melton/temp_dropseq/killme_variants/killme.len%d.fq' % rlen\n",
      "    counts_filename = '/Users/averes/Projects/Melton/temp_dropseq/killme_variants/killme.len%d.counts.txt' % rlen\n",
      "    with open(fq_filename, 'w') as f:\n",
      "        for li,line in enumerate(killme):\n",
      "            if (li+1)%2==0:\n",
      "                line = line.rstrip()[:rlen] + line[-1]\n",
      "            f.write(line)\n",
      "            \n",
      "    mixed = '/Users/averes/Projects/Melton/hg19_mm10/mm10_hg19_mixed'\n",
      "    p1 = subprocess.Popen('/usr/local/bin/bowtie %s %s -m 200 -a --best --strata --sam --norc -n 2 --seedlen 15 --chunkmbs 300' % (mixed, fq_filename), stdout=subprocess.PIPE, shell=True)\n",
      "    p2 = subprocess.Popen('/Users/averes/miniconda3/envs/py27/bin/python ../filter_alignments.py -m 1 --counts %s --split_ambi > /dev/null' % counts_filename,  stdin=p1.stdout, shell=True)\n",
      "    p1.stdout.close()\n",
      "    p2.wait()\n",
      "    p1.wait()\n",
      "    \n",
      "    print(p1)\n",
      "    \n",
      "    with open(counts_filename, 'r') as f:\n",
      "        h = next(f)\n",
      "        ref_count = defaultdict(float)\n",
      "        for line in f:\n",
      "            d = line.rstrip().split('\\t')\n",
      "            if 'mm10' in d[0]:\n",
      "                ref = 'mm10'\n",
      "            elif 'hg19' in d[0]:\n",
      "                ref = 'hg19'\n",
      "            ref_count[ref] += float(d[1])\n",
      "\n",
      "    counts_by_len[rlen] = ref_count"
     ],
     "language": "python",
     "metadata": {},
     "outputs": [
      {
       "output_type": "stream",
       "stream": "stdout",
       "text": [
        "<subprocess.Popen object at 0x105d49bd0>\n",
        "<subprocess.Popen object at 0x105f730d0>"
       ]
      },
      {
       "output_type": "stream",
       "stream": "stdout",
       "text": [
        "\n",
        "<subprocess.Popen object at 0x105f73050>"
       ]
      },
      {
       "output_type": "stream",
       "stream": "stdout",
       "text": [
        "\n",
        "<subprocess.Popen object at 0x105d49b90>"
       ]
      },
      {
       "output_type": "stream",
       "stream": "stdout",
       "text": [
        "\n",
        "<subprocess.Popen object at 0x105f730d0>"
       ]
      },
      {
       "output_type": "stream",
       "stream": "stdout",
       "text": [
        "\n",
        "<subprocess.Popen object at 0x105f73050>"
       ]
      },
      {
       "output_type": "stream",
       "stream": "stdout",
       "text": [
        "\n",
        "<subprocess.Popen object at 0x105d49bd0>"
       ]
      },
      {
       "output_type": "stream",
       "stream": "stdout",
       "text": [
        "\n",
        "<subprocess.Popen object at 0x105f730d0>"
       ]
      },
      {
       "output_type": "stream",
       "stream": "stdout",
       "text": [
        "\n",
        "<subprocess.Popen object at 0x105f73050>"
       ]
      },
      {
       "output_type": "stream",
       "stream": "stdout",
       "text": [
        "\n",
        "<subprocess.Popen object at 0x105d49b90>"
       ]
      },
      {
       "output_type": "stream",
       "stream": "stdout",
       "text": [
        "\n",
        "<subprocess.Popen object at 0x105f730d0>"
       ]
      },
      {
       "output_type": "stream",
       "stream": "stdout",
       "text": [
        "\n",
        "<subprocess.Popen object at 0x105f73050>"
       ]
      },
      {
       "output_type": "stream",
       "stream": "stdout",
       "text": [
        "\n",
        "<subprocess.Popen object at 0x105d49bd0>"
       ]
      },
      {
       "output_type": "stream",
       "stream": "stdout",
       "text": [
        "\n",
        "<subprocess.Popen object at 0x105f730d0>"
       ]
      },
      {
       "output_type": "stream",
       "stream": "stdout",
       "text": [
        "\n"
       ]
      }
     ],
     "prompt_number": 11
    },
    {
     "cell_type": "code",
     "collapsed": false,
     "input": [
      "%pylab inline\n",
      "import matplotlib.pyplot as plt\n",
      "rlens = sorted(counts_by_len.keys())\n",
      "mm10s = [counts_by_len[r]['mm10'] for r in rlens]\n",
      "hg19s = [counts_by_len[r]['hg19'] for r in rlens]\n",
      "ratios = [100*b/(a+b) for a,b in zip(mm10s, hg19s)]\n",
      "\n",
      "\n",
      "ax = plt.subplot(111, title='Simulated shorter reads in Killme', xlabel='Maximal Read length', ylabel='%hg19 (ratio of counts)')\n",
      "ax.plot(rlens, ratios, 'o-', label='mm10')"
     ],
     "language": "python",
     "metadata": {},
     "outputs": [
      {
       "output_type": "stream",
       "stream": "stdout",
       "text": [
        "Populating the interactive namespace from numpy and matplotlib\n"
       ]
      },
      {
       "metadata": {},
       "output_type": "pyout",
       "prompt_number": 21,
       "text": [
        "[<matplotlib.lines.Line2D at 0x1083a83d0>]"
       ]
      },
      {
       "metadata": {},
       "output_type": "display_data",
       "png": "[encoded data removed]",
       "text": [
        "<matplotlib.figure.Figure at 0x10835a5d0>"
       ]
      }
     ],
     "prompt_number": 21
    },
    {
     "cell_type": "code",
     "collapsed": false,
     "input": [],
     "language": "python",
     "metadata": {},
     "outputs": []
    }
   ],
   "metadata": {}
  }
 ]
}