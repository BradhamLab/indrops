{
 "metadata": {
  "name": "",
  "signature": "sha256:b2f6162e1ade5bb36015565e0347efb087a08ad32aec8fd60d15e219c3f6eb98"
 },
 "nbformat": 3,
 "nbformat_minor": 0,
 "worksheets": [
  {
   "cells": [
    {
     "cell_type": "markdown",
     "metadata": {},
     "source": []
    },
    {
     "cell_type": "code",
     "collapsed": false,
     "input": [
      "from collections import defaultdict\n",
      "import subprocess\n",
      "\n",
      "with open('/Users/averes/Projects/Melton/temp_dropseq/killme.fq') as f:\n",
      "    killme = list(f)\n",
      "\n",
      "counts_by_len = {}\n",
      "for rlen in range(30, 100, 5):\n",
      "    fq_filename = '/Users/averes/Projects/Melton/temp_dropseq/killme_variants/killme.len%d.fq' % rlen\n",
      "    counts_filename = '/Users/averes/Projects/Melton/temp_dropseq/killme_variants/killme.len%d.spec_ref.counts.txt' % rlen\n",
      "    with open(fq_filename, 'w') as f:\n",
      "        for li,line in enumerate(killme):\n",
      "            if (li+1)%2==0:\n",
      "                line = line.rstrip()[:rlen] + line[-1]\n",
      "            f.write(line)\n",
      "            \n",
      "    mixed = '/Users/averes/Projects/Melton/hg19_mm10/mm10_hg19_mixed'\n",
      "    p1 = subprocess.Popen('/usr/local/bin/bowtie %s %s -m 200 -a --best --strata --sam --norc -n 2 --seedlen 15 --chunkmbs 300' % (mixed, fq_filename), stdout=subprocess.PIPE, shell=True)\n",
      "    p2 = subprocess.Popen('/Users/averes/miniconda3/envs/py27/bin/python ../filter_alignments.py -m 4 --counts %s --split_ambi --mixed_ref > /dev/null' % counts_filename,  stdin=p1.stdout, shell=True)\n",
      "    p1.stdout.close()\n",
      "    p2.wait()\n",
      "    p1.wait()\n",
      "    \n",
      "    print(p1)\n",
      "    \n",
      "    with open(counts_filename, 'r') as f:\n",
      "        h = next(f)\n",
      "        ref_count = defaultdict(float)\n",
      "        for line in f:\n",
      "            d = line.rstrip().split('\\t')\n",
      "            if 'mm10' in d[0]:\n",
      "                ref = 'mm10'\n",
      "            elif 'hg19' in d[0]:\n",
      "                ref = 'hg19'\n",
      "            ref_count[ref] += float(d[1])\n",
      "\n",
      "    counts_by_len[rlen] = ref_count"
     ],
     "language": "python",
     "metadata": {},
     "outputs": [
      {
       "output_type": "stream",
       "stream": "stdout",
       "text": [
        "<subprocess.Popen object at 0x105d60990>\n",
        "<subprocess.Popen object at 0x105d60a10>"
       ]
      },
      {
       "output_type": "stream",
       "stream": "stdout",
       "text": [
        "\n",
        "<subprocess.Popen object at 0x105d60a90>"
       ]
      },
      {
       "output_type": "stream",
       "stream": "stdout",
       "text": [
        "\n",
        "<subprocess.Popen object at 0x105d60a50>"
       ]
      },
      {
       "output_type": "stream",
       "stream": "stdout",
       "text": [
        "\n",
        "<subprocess.Popen object at 0x105d60990>"
       ]
      },
      {
       "output_type": "stream",
       "stream": "stdout",
       "text": [
        "\n",
        "<subprocess.Popen object at 0x105d609d0>"
       ]
      },
      {
       "output_type": "stream",
       "stream": "stdout",
       "text": [
        "\n",
        "<subprocess.Popen object at 0x105d60a90>"
       ]
      },
      {
       "output_type": "stream",
       "stream": "stdout",
       "text": [
        "\n",
        "<subprocess.Popen object at 0x105d60a50>"
       ]
      },
      {
       "output_type": "stream",
       "stream": "stdout",
       "text": [
        "\n",
        "<subprocess.Popen object at 0x105d60990>"
       ]
      },
      {
       "output_type": "stream",
       "stream": "stdout",
       "text": [
        "\n",
        "<subprocess.Popen object at 0x105d60a10>"
       ]
      },
      {
       "output_type": "stream",
       "stream": "stdout",
       "text": [
        "\n",
        "<subprocess.Popen object at 0x105d609d0>"
       ]
      },
      {
       "output_type": "stream",
       "stream": "stdout",
       "text": [
        "\n",
        "<subprocess.Popen object at 0x105d60990>"
       ]
      },
      {
       "output_type": "stream",
       "stream": "stdout",
       "text": [
        "\n",
        "<subprocess.Popen object at 0x105d60a90>"
       ]
      },
      {
       "output_type": "stream",
       "stream": "stdout",
       "text": [
        "\n",
        "<subprocess.Popen object at 0x105d60a50>"
       ]
      },
      {
       "output_type": "stream",
       "stream": "stdout",
       "text": [
        "\n"
       ]
      }
     ],
     "prompt_number": 1
    },
    {
     "cell_type": "code",
     "collapsed": false,
     "input": [
      "%pylab inline\n",
      "import matplotlib.pyplot as plt\n",
      "rlens = sorted(counts_by_len.keys())\n",
      "mm10s = [counts_by_len[r]['mm10'] for r in rlens]\n",
      "hg19s = [counts_by_len[r]['hg19'] for r in rlens]\n",
      "ratios = [100*b/(a+b) for a,b in zip(mm10s, hg19s)]\n",
      "\n",
      "\n",
      "ax = plt.subplot(111, title='Simulated shorter reads in Killme', xlabel='Maximal Read length', ylabel='%hg19 (ratio of counts)')\n",
      "ax.plot(rlens, ratios, 'o-', label='mm10')"
     ],
     "language": "python",
     "metadata": {},
     "outputs": [
      {
       "output_type": "stream",
       "stream": "stdout",
       "text": [
        "Populating the interactive namespace from numpy and matplotlib\n"
       ]
      },
      {
       "output_type": "stream",
       "stream": "stderr",
       "text": [
        "WARNING: pylab import has clobbered these variables: ['f']\n",
        "`%matplotlib` prevents importing * from pylab and numpy\n"
       ]
      },
      {
       "metadata": {},
       "output_type": "pyout",
       "prompt_number": 2,
       "text": [
        "[<matplotlib.lines.Line2D at 0x10420ab50>]"
       ]
      },
      {
       "metadata": {},
       "output_type": "display_data",
       "png": "[encoded data removed]",
       "text": [
        "<matplotlib.figure.Figure at 0x10420ab90>"
       ]
      }
     ],
     "prompt_number": 2
    },
    {
     "cell_type": "markdown",
     "metadata": {},
     "source": [
      "## Head to head comparison"
     ]
    },
    {
     "cell_type": "code",
     "collapsed": false,
     "input": [
      "#First, load translation table...\n",
      "ens_tx_to_geneid = {}\n",
      "with open('../../temp_dropseq/head_to_head/ENS_symbols.txt', 'r') as f:\n",
      "    head = next(f).rstrip().split('\\t')\n",
      "    for line in f:\n",
      "        line = line.rstrip().split('\\t')\n",
      "        ens_to_geneid[line[1]] = line[2]"
     ],
     "language": "python",
     "metadata": {},
     "outputs": [],
     "prompt_number": 29
    },
    {
     "cell_type": "code",
     "collapsed": false,
     "input": [
      "#Load the RSEM data\n",
      "from collections import defaultdict\n",
      "rsem_counts = defaultdict(float)\n",
      "with open('../../temp_dropseq/head_to_head/reads_100_157.rsem.genes.results') as rsem:\n",
      "    head = next(rsem).rstrip().split('\\t')\n",
      "    for line in rsem:\n",
      "        line = line.rstrip().split('\\t')\n",
      "        gene = ens_to_geneid[line[0]]\n",
      "        rsem_counts[gene] += float(line[4])"
     ],
     "language": "python",
     "metadata": {},
     "outputs": [],
     "prompt_number": 38
    },
    {
     "cell_type": "code",
     "collapsed": false,
     "input": [
      "#Load the custom pipeline data\n",
      "pipeline_counts = defaultdict(float)\n",
      "pipeline_ambigs = defaultdict(float)\n",
      "with open('../../temp_dropseq/head_to_head/reads_100_157.counts.txt') as f:\n",
      "    head = next(f).rstrip().split('\\t')\n",
      "    for line in f:\n",
      "        line = line.rstrip().split('\\t')\n",
      "        pipeline_counts[line[0]] = float(line[1])\n",
      "        pipeline_ambigs[line[0]] = float(line[2])"
     ],
     "language": "python",
     "metadata": {},
     "outputs": [],
     "prompt_number": 54
    },
    {
     "cell_type": "code",
     "collapsed": false,
     "input": [
      "len(set(rsem_counts.keys()) - set(pipeline_counts.keys()))"
     ],
     "language": "python",
     "metadata": {},
     "outputs": [
      {
       "metadata": {},
       "output_type": "pyout",
       "prompt_number": 64,
       "text": [
        "0"
       ]
      }
     ],
     "prompt_number": 64
    },
    {
     "cell_type": "code",
     "collapsed": false,
     "input": [
      "len(set(pipeline_counts.keys()) - set(rsem_counts.keys()))"
     ],
     "language": "python",
     "metadata": {},
     "outputs": [
      {
       "metadata": {},
       "output_type": "pyout",
       "prompt_number": 65,
       "text": [
        "0"
       ]
      }
     ],
     "prompt_number": 65
    },
    {
     "cell_type": "code",
     "collapsed": false,
     "input": [
      "merged = []\n",
      "for k in set(rsem_counts.keys()).union(set(pipeline_counts.keys())):\n",
      "    merged.append((k, rsem_counts[k], pipeline_counts[k], pipeline_ambigs[k]+6))"
     ],
     "language": "python",
     "metadata": {},
     "outputs": [],
     "prompt_number": 67
    },
    {
     "cell_type": "code",
     "collapsed": false,
     "input": [
      "genes, x, y, s = zip(*merged)\n",
      "x=np.array(x)\n",
      "y=np.array(y)\n",
      "ax = plt.subplot(111, title='RSEM vs. Pipeline',\n",
      "                 xscale='log', yscale='log',\n",
      "                 xlabel='RSEM expected_count+1', ylabel='Pipeline counts+1',\n",
      "                 xlim=[0.9, 10**3], ylim=[0.9, 10**3],\n",
      "                 )\n",
      "ax.scatter(x+1, y+1, s=s, label='mm10', c='g', alpha=0.3)\n",
      "ax.plot([0.9, 10**3], [0.9, 10**3], 'k--')"
     ],
     "language": "python",
     "metadata": {},
     "outputs": [
      {
       "metadata": {},
       "output_type": "pyout",
       "prompt_number": 78,
       "text": [
        "<matplotlib.collections.PathCollection at 0x143cc9c90>"
       ]
      },
      {
       "metadata": {},
       "output_type": "display_data",
       "png": "[encoded data removed]",
       "text": [
        "<matplotlib.figure.Figure at 0x134668190>"
       ]
      }
     ],
     "prompt_number": 78
    },
    {
     "cell_type": "code",
     "collapsed": false,
     "input": [
      "with open('../../temp_dropseq/head_to_head/rsem_missed.txt', 'w') as r_out, open('../../temp_dropseq/head_to_head/pl_missed.txt', 'w') as p_out:\n",
      "    for g, r_v, p_v, a_v in merged:\n",
      "        if r_v>5 and p_v==0:\n",
      "            p_out.write('%s\\t%d\\n' % (g, r_v))\n",
      "        if r_v==0 and p_v>5:\n",
      "            r_out.write('%s\\t%d\\n' % (g, p_v))"
     ],
     "language": "python",
     "metadata": {},
     "outputs": [],
     "prompt_number": 82
    },
    {
     "cell_type": "code",
     "collapsed": false,
     "input": [],
     "language": "python",
     "metadata": {},
     "outputs": [
      {
       "metadata": {},
       "output_type": "pyout",
       "prompt_number": 72,
       "text": [
        "('Plekhg3', 1.0, 0.0, 6.0)"
       ]
      }
     ],
     "prompt_number": 72
    },
    {
     "cell_type": "code",
     "collapsed": false,
     "input": [],
     "language": "python",
     "metadata": {},
     "outputs": []
    }
   ],
   "metadata": {}
  }
 ]
}